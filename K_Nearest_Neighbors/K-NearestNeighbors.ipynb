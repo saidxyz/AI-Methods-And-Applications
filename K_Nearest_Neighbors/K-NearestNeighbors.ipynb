{
 "cells": [
  {
   "cell_type": "code",
   "execution_count": 176,
   "metadata": {},
   "outputs": [],
   "source": [
    "import pandas as pd\n",
    "import math"
   ]
  },
  {
   "cell_type": "code",
   "execution_count": 177,
   "metadata": {},
   "outputs": [
    {
     "name": "stdout",
     "output_type": "stream",
     "text": [
      "RangeIndex(start=0, stop=150, step=1)\n"
     ]
    }
   ],
   "source": [
    "# Iris dataset link\n",
    "URL = 'https://archive.ics.uci.edu/ml/machine-learning-databases/iris/iris.data'\n",
    "df_iris = pd.read_csv(URL,\n",
    "header=None,\n",
    "names=['sepal length', 'sepal width',\n",
    "'petal length', 'petal width', 'class'])\n",
    "print(df_iris.index)\n"
   ]
  },
  {
   "cell_type": "code",
   "execution_count": 178,
   "metadata": {},
   "outputs": [
    {
     "data": {
      "text/html": [
       "<div>\n",
       "<style scoped>\n",
       "    .dataframe tbody tr th:only-of-type {\n",
       "        vertical-align: middle;\n",
       "    }\n",
       "\n",
       "    .dataframe tbody tr th {\n",
       "        vertical-align: top;\n",
       "    }\n",
       "\n",
       "    .dataframe thead th {\n",
       "        text-align: right;\n",
       "    }\n",
       "</style>\n",
       "<table border=\"1\" class=\"dataframe\">\n",
       "  <thead>\n",
       "    <tr style=\"text-align: right;\">\n",
       "      <th></th>\n",
       "      <th>sepal length</th>\n",
       "      <th>sepal width</th>\n",
       "      <th>petal length</th>\n",
       "      <th>petal width</th>\n",
       "      <th>class</th>\n",
       "    </tr>\n",
       "  </thead>\n",
       "  <tbody>\n",
       "    <tr>\n",
       "      <th>0</th>\n",
       "      <td>5.1</td>\n",
       "      <td>3.5</td>\n",
       "      <td>1.4</td>\n",
       "      <td>0.2</td>\n",
       "      <td>Iris-setosa</td>\n",
       "    </tr>\n",
       "    <tr>\n",
       "      <th>1</th>\n",
       "      <td>4.9</td>\n",
       "      <td>3.0</td>\n",
       "      <td>1.4</td>\n",
       "      <td>0.2</td>\n",
       "      <td>Iris-setosa</td>\n",
       "    </tr>\n",
       "    <tr>\n",
       "      <th>2</th>\n",
       "      <td>4.7</td>\n",
       "      <td>3.2</td>\n",
       "      <td>1.3</td>\n",
       "      <td>0.2</td>\n",
       "      <td>Iris-setosa</td>\n",
       "    </tr>\n",
       "    <tr>\n",
       "      <th>3</th>\n",
       "      <td>4.6</td>\n",
       "      <td>3.1</td>\n",
       "      <td>1.5</td>\n",
       "      <td>0.2</td>\n",
       "      <td>Iris-setosa</td>\n",
       "    </tr>\n",
       "    <tr>\n",
       "      <th>4</th>\n",
       "      <td>5.0</td>\n",
       "      <td>3.6</td>\n",
       "      <td>1.4</td>\n",
       "      <td>0.2</td>\n",
       "      <td>Iris-setosa</td>\n",
       "    </tr>\n",
       "  </tbody>\n",
       "</table>\n",
       "</div>"
      ],
      "text/plain": [
       "   sepal length  sepal width  petal length  petal width        class\n",
       "0           5.1          3.5           1.4          0.2  Iris-setosa\n",
       "1           4.9          3.0           1.4          0.2  Iris-setosa\n",
       "2           4.7          3.2           1.3          0.2  Iris-setosa\n",
       "3           4.6          3.1           1.5          0.2  Iris-setosa\n",
       "4           5.0          3.6           1.4          0.2  Iris-setosa"
      ]
     },
     "execution_count": 178,
     "metadata": {},
     "output_type": "execute_result"
    }
   ],
   "source": [
    "df_iris.head(5)"
   ]
  },
  {
   "cell_type": "code",
   "execution_count": 179,
   "metadata": {},
   "outputs": [
    {
     "data": {
      "text/plain": [
       "(array([0, 0, 0, 0, 0, 0, 0, 0, 0, 0, 0, 0, 0, 0, 0, 0, 0, 0, 0, 0, 0, 0,\n",
       "        0, 0, 0, 0, 0, 0, 0, 0, 0, 0, 0, 0, 0, 0, 0, 0, 0, 0, 0, 0, 0, 0,\n",
       "        0, 0, 0, 0, 0, 0, 1, 1, 1, 1, 1, 1, 1, 1, 1, 1, 1, 1, 1, 1, 1, 1,\n",
       "        1, 1, 1, 1, 1, 1, 1, 1, 1, 1, 1, 1, 1, 1, 1, 1, 1, 1, 1, 1, 1, 1,\n",
       "        1, 1, 1, 1, 1, 1, 1, 1, 1, 1, 1, 1, 2, 2, 2, 2, 2, 2, 2, 2, 2, 2,\n",
       "        2, 2, 2, 2, 2, 2, 2, 2, 2, 2, 2, 2, 2, 2, 2, 2, 2, 2, 2, 2, 2, 2,\n",
       "        2, 2, 2, 2, 2, 2, 2, 2, 2, 2, 2, 2, 2, 2, 2, 2, 2, 2]),\n",
       " Index(['Iris-setosa', 'Iris-versicolor', 'Iris-virginica'], dtype='object'))"
      ]
     },
     "execution_count": 179,
     "metadata": {},
     "output_type": "execute_result"
    }
   ],
   "source": [
    "pd.factorize(df_iris['class'])"
   ]
  },
  {
   "cell_type": "markdown",
   "metadata": {},
   "source": [
    "Task 1: Calculate the distance"
   ]
  },
  {
   "cell_type": "code",
   "execution_count": 180,
   "metadata": {},
   "outputs": [
    {
     "name": "stdout",
     "output_type": "stream",
     "text": [
      "The Euclidean distance between p and q is: 2.0\n"
     ]
    }
   ],
   "source": [
    "def euclidean_distance(p, q):\n",
    "    if len(p) != len(q):\n",
    "        return None\n",
    "    total = 0\n",
    "    for i in range(len(p)):\n",
    "        difference = q[i] - p[i]\n",
    "        square = math.pow(difference, 2)\n",
    "        total += square\n",
    "    distance = math.sqrt(total)\n",
    "    return distance\n",
    "\n",
    "# Correct column names\n",
    "feature_columns = ['sepal length', 'sepal width', 'petal length', 'petal width']\n",
    "\n",
    "# Select features for the first flower\n",
    "p = [1,2,3,4]\n",
    "\n",
    "# Select features for the second flower\n",
    "q = [2,3,4,5]\n",
    "\n",
    "distance = euclidean_distance(p, q)\n",
    "print(f\"The Euclidean distance between p and q is: {distance}\")\n"
   ]
  },
  {
   "cell_type": "markdown",
   "metadata": {},
   "source": [
    "Task 2: Finding the Nearest Neighbors"
   ]
  },
  {
   "cell_type": "code",
   "execution_count": 181,
   "metadata": {},
   "outputs": [
    {
     "name": "stdout",
     "output_type": "stream",
     "text": [
      "Index: 18, Distance: 1.5811388300841893, Class: Iris-setosa\n",
      "Index: 14, Distance: 1.584297951775486, Class: Iris-setosa\n",
      "Index: 36, Distance: 1.6309506430300091, Class: Iris-setosa\n"
     ]
    }
   ],
   "source": [
    "# The new data point to classify\n",
    "new_dp = [7.0, 3.1, 1.3, 0.7]\n",
    "\n",
    "# List to store distances\n",
    "distances = []\n",
    "\n",
    "# Iterate over each data point in the dataset\n",
    "for index, row in df_iris.iterrows():\n",
    "    data_point = row[feature_columns].values\n",
    "    distance = euclidean_distance(new_dp, data_point)\n",
    "    distances.append((distance, index))\n",
    "\n",
    "# Sort distances\n",
    "distances.sort()\n",
    "\n",
    "# Number of nearest neighbors\n",
    "k = 3\n",
    "\n",
    "# Get the top k nearest neighbors\n",
    "nearest_neighbors = distances[:k]\n",
    "\n",
    "# Print nearest neighbors\n",
    "for distance, index in nearest_neighbors:\n",
    "    print(f\"Index: {index}, Distance: {distance}, Class: {df_iris.loc[index, 'class']}\")\n"
   ]
  },
  {
   "cell_type": "markdown",
   "metadata": {},
   "source": [
    "Task 3: Make the predictions"
   ]
  },
  {
   "cell_type": "code",
   "execution_count": 182,
   "metadata": {},
   "outputs": [
    {
     "name": "stdout",
     "output_type": "stream",
     "text": [
      "The predicted class for the new data point is: Iris-setosa\n"
     ]
    }
   ],
   "source": [
    "# Get the classes of the nearest neighbors\n",
    "neighbor_classes = [df_iris.loc[index, 'class'] for distance, index in nearest_neighbors]\n",
    "\n",
    "# Count the occurrences of each class\n",
    "class_counts = {}\n",
    "for cls in neighbor_classes:\n",
    "    if cls in class_counts:\n",
    "        class_counts[cls] += 1\n",
    "    else:\n",
    "        class_counts[cls] = 1\n",
    "\n",
    "# Use max to find the class with the highest count\n",
    "predicted_class = max(class_counts, key=class_counts.get)\n",
    "\n",
    "print(f\"The predicted class for the new data point is: {predicted_class}\")"
   ]
  }
 ],
 "metadata": {
  "kernelspec": {
   "display_name": ".venv",
   "language": "python",
   "name": "python3"
  },
  "language_info": {
   "codemirror_mode": {
    "name": "ipython",
    "version": 3
   },
   "file_extension": ".py",
   "mimetype": "text/x-python",
   "name": "python",
   "nbconvert_exporter": "python",
   "pygments_lexer": "ipython3",
   "version": "3.12.4"
  }
 },
 "nbformat": 4,
 "nbformat_minor": 2
}
